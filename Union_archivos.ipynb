{
 "cells": [
  {
   "cell_type": "code",
   "execution_count": 2,
   "metadata": {
    "collapsed": false
   },
   "outputs": [],
   "source": [
    "import pandas as pd\n",
    "import glob\n",
    "import numpy as np\n",
    "import os\n",
    "\n",
    "path = \"Peajes/\""
   ]
  },
  {
   "cell_type": "code",
   "execution_count": 3,
   "metadata": {
    "collapsed": true
   },
   "outputs": [],
   "source": [
    "#teset_select\n",
    "#teset n°2\n",
    "\n",
    "#Array with the files names\n",
    "allFiles = glob.glob(path + \"*.xl*\")"
   ]
  },
  {
   "cell_type": "code",
   "execution_count": 16,
   "metadata": {
    "collapsed": false
   },
   "outputs": [],
   "source": [
    "#Looping over the files and concatenation\n",
    "frame = pd.DataFrame()\n",
    "list_ = []\n",
    "i=0\n",
    "for file_ in allFiles:\n",
    "    base = pd.read_excel(file_,sheetname=\"Cuadro de Pagos\",skiprows=7,parse_cols = \"B:H\")\n",
    "    base.columns.values[0] = 'Usuaria'\n",
    "    base = base[['Usuaria','Total']]\n",
    "    base.columns = ['Empresa', allFiles[i][7:12]]\n",
    "    base = base.set_index('Empresa')\n",
    "    base = base.ix[1:]\n",
    "    \n",
    "    list_.append(base)\n",
    "    i=i+1\n",
    "    \n",
    "frame = pd.concat(list_,axis=1)\n",
    "\n",
    "frame.to_excel('Peajes.xlsx')"
   ]
  },
  {
   "cell_type": "code",
   "execution_count": null,
   "metadata": {
    "collapsed": false
   },
   "outputs": [],
   "source": []
  },
  {
   "cell_type": "code",
   "execution_count": null,
   "metadata": {
    "collapsed": false
   },
   "outputs": [],
   "source": []
  },
  {
   "cell_type": "code",
   "execution_count": null,
   "metadata": {
    "collapsed": true
   },
   "outputs": [],
   "source": []
  }
 ],
 "metadata": {
  "kernelspec": {
   "display_name": "Python 3",
   "language": "python",
   "name": "python3"
  },
  "language_info": {
   "codemirror_mode": {
    "name": "ipython",
    "version": 3
   },
   "file_extension": ".py",
   "mimetype": "text/x-python",
   "name": "python",
   "nbconvert_exporter": "python",
   "pygments_lexer": "ipython3",
   "version": "3.5.2"
  }
 },
 "nbformat": 4,
 "nbformat_minor": 0
}
